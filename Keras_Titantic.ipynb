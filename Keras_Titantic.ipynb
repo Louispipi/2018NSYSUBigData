{
 "cells": [
  {
   "cell_type": "code",
   "execution_count": 1,
   "metadata": {},
   "outputs": [],
   "source": [
    "import math\n",
    "import numpy as np\n",
    "import pandas as pd\n",
    "import matplotlib.pyplot as plt"
   ]
  },
  {
   "cell_type": "code",
   "execution_count": 2,
   "metadata": {},
   "outputs": [],
   "source": [
    "train=pd.read_csv('train.csv',dtype={\"Age\": np.float64},)\n",
    "test=pd.read_csv('test.csv',dtype={\"Age\": np.float64},)"
   ]
  },
  {
   "cell_type": "markdown",
   "metadata": {},
   "source": [
    "# Preprocessing"
   ]
  },
  {
   "cell_type": "code",
   "execution_count": 3,
   "metadata": {},
   "outputs": [],
   "source": [
    "features=['Pclass', 'Age', 'SibSp', 'Parch', 'Fare', 'Sex', 'Embarked']"
   ]
  },
  {
   "cell_type": "code",
   "execution_count": 4,
   "metadata": {},
   "outputs": [],
   "source": [
    "x_train=train[features]\n",
    "y_train=train['Survived']\n",
    "x_test = test[features]"
   ]
  },
  {
   "cell_type": "code",
   "execution_count": 5,
   "metadata": {
    "scrolled": true
   },
   "outputs": [
    {
     "data": {
      "text/html": [
       "<div>\n",
       "<style scoped>\n",
       "    .dataframe tbody tr th:only-of-type {\n",
       "        vertical-align: middle;\n",
       "    }\n",
       "\n",
       "    .dataframe tbody tr th {\n",
       "        vertical-align: top;\n",
       "    }\n",
       "\n",
       "    .dataframe thead th {\n",
       "        text-align: right;\n",
       "    }\n",
       "</style>\n",
       "<table border=\"1\" class=\"dataframe\">\n",
       "  <thead>\n",
       "    <tr style=\"text-align: right;\">\n",
       "      <th></th>\n",
       "      <th>Pclass</th>\n",
       "      <th>Age</th>\n",
       "      <th>SibSp</th>\n",
       "      <th>Parch</th>\n",
       "      <th>Fare</th>\n",
       "      <th>Sex</th>\n",
       "      <th>Embarked</th>\n",
       "    </tr>\n",
       "  </thead>\n",
       "  <tbody>\n",
       "    <tr>\n",
       "      <th>0</th>\n",
       "      <td>3</td>\n",
       "      <td>22.0</td>\n",
       "      <td>1</td>\n",
       "      <td>0</td>\n",
       "      <td>7.2500</td>\n",
       "      <td>male</td>\n",
       "      <td>S</td>\n",
       "    </tr>\n",
       "    <tr>\n",
       "      <th>1</th>\n",
       "      <td>1</td>\n",
       "      <td>38.0</td>\n",
       "      <td>1</td>\n",
       "      <td>0</td>\n",
       "      <td>71.2833</td>\n",
       "      <td>female</td>\n",
       "      <td>C</td>\n",
       "    </tr>\n",
       "    <tr>\n",
       "      <th>2</th>\n",
       "      <td>3</td>\n",
       "      <td>26.0</td>\n",
       "      <td>0</td>\n",
       "      <td>0</td>\n",
       "      <td>7.9250</td>\n",
       "      <td>female</td>\n",
       "      <td>S</td>\n",
       "    </tr>\n",
       "  </tbody>\n",
       "</table>\n",
       "</div>"
      ],
      "text/plain": [
       "   Pclass   Age  SibSp  Parch     Fare     Sex Embarked\n",
       "0       3  22.0      1      0   7.2500    male        S\n",
       "1       1  38.0      1      0  71.2833  female        C\n",
       "2       3  26.0      0      0   7.9250  female        S"
      ]
     },
     "execution_count": 5,
     "metadata": {},
     "output_type": "execute_result"
    }
   ],
   "source": [
    "x_train.head(3)"
   ]
  },
  {
   "cell_type": "code",
   "execution_count": 11,
   "metadata": {},
   "outputs": [],
   "source": [
    "# 把項目數值化\n",
    "from sklearn.preprocessing import LabelBinarizer\n",
    "lb = LabelBinarizer()\n",
    "x_train[\"Sex\"] = lb.fit_transform(x_train[\"Sex\"])\n",
    "x_test[\"Sex\"] = lb.transform(x_test[\"Sex\"])\n",
    "# 建立虛擬變數\n",
    "x_train = pd.get_dummies(x_train)\n",
    "x_test = pd.get_dummies(x_test)"
   ]
  },
  {
   "cell_type": "code",
   "execution_count": 12,
   "metadata": {},
   "outputs": [
    {
     "data": {
      "text/html": [
       "<div>\n",
       "<style scoped>\n",
       "    .dataframe tbody tr th:only-of-type {\n",
       "        vertical-align: middle;\n",
       "    }\n",
       "\n",
       "    .dataframe tbody tr th {\n",
       "        vertical-align: top;\n",
       "    }\n",
       "\n",
       "    .dataframe thead th {\n",
       "        text-align: right;\n",
       "    }\n",
       "</style>\n",
       "<table border=\"1\" class=\"dataframe\">\n",
       "  <thead>\n",
       "    <tr style=\"text-align: right;\">\n",
       "      <th></th>\n",
       "      <th>Pclass</th>\n",
       "      <th>Age</th>\n",
       "      <th>SibSp</th>\n",
       "      <th>Parch</th>\n",
       "      <th>Fare</th>\n",
       "      <th>Sex</th>\n",
       "      <th>Embarked_C</th>\n",
       "      <th>Embarked_Q</th>\n",
       "      <th>Embarked_S</th>\n",
       "    </tr>\n",
       "  </thead>\n",
       "  <tbody>\n",
       "    <tr>\n",
       "      <th>0</th>\n",
       "      <td>3</td>\n",
       "      <td>22.0</td>\n",
       "      <td>1</td>\n",
       "      <td>0</td>\n",
       "      <td>7.2500</td>\n",
       "      <td>1</td>\n",
       "      <td>0</td>\n",
       "      <td>0</td>\n",
       "      <td>1</td>\n",
       "    </tr>\n",
       "    <tr>\n",
       "      <th>1</th>\n",
       "      <td>1</td>\n",
       "      <td>38.0</td>\n",
       "      <td>1</td>\n",
       "      <td>0</td>\n",
       "      <td>71.2833</td>\n",
       "      <td>0</td>\n",
       "      <td>1</td>\n",
       "      <td>0</td>\n",
       "      <td>0</td>\n",
       "    </tr>\n",
       "    <tr>\n",
       "      <th>2</th>\n",
       "      <td>3</td>\n",
       "      <td>26.0</td>\n",
       "      <td>0</td>\n",
       "      <td>0</td>\n",
       "      <td>7.9250</td>\n",
       "      <td>0</td>\n",
       "      <td>0</td>\n",
       "      <td>0</td>\n",
       "      <td>1</td>\n",
       "    </tr>\n",
       "  </tbody>\n",
       "</table>\n",
       "</div>"
      ],
      "text/plain": [
       "   Pclass   Age  SibSp  Parch     Fare  Sex  Embarked_C  Embarked_Q  \\\n",
       "0       3  22.0      1      0   7.2500    1           0           0   \n",
       "1       1  38.0      1      0  71.2833    0           1           0   \n",
       "2       3  26.0      0      0   7.9250    0           0           0   \n",
       "\n",
       "   Embarked_S  \n",
       "0           1  \n",
       "1           0  \n",
       "2           1  "
      ]
     },
     "execution_count": 12,
     "metadata": {},
     "output_type": "execute_result"
    }
   ],
   "source": [
    "x_train.head(3)"
   ]
  },
  {
   "cell_type": "code",
   "execution_count": 13,
   "metadata": {},
   "outputs": [],
   "source": [
    "#處理缺值\n",
    "age_map = lambda a : a if not math.isnan(a) else 0.0\n",
    "x_train[\"Age\"] = x_train[\"Age\"].map(age_map) \n",
    "x_test[\"Age\"] = x_test[\"Age\"].map(age_map) \n",
    "x_test[\"Fare\"] = x_test[\"Fare\"].map(age_map) "
   ]
  },
  {
   "cell_type": "code",
   "execution_count": 14,
   "metadata": {},
   "outputs": [],
   "source": [
    "#數據標準化\n",
    "from sklearn.preprocessing import StandardScaler\n",
    "sc = StandardScaler()\n",
    "x_train_std = sc.fit_transform(x_train)\n",
    "x_test_std = sc.transform(x_test)"
   ]
  },
  {
   "cell_type": "markdown",
   "metadata": {},
   "source": [
    "# Keras"
   ]
  },
  {
   "cell_type": "code",
   "execution_count": 16,
   "metadata": {
    "scrolled": true
   },
   "outputs": [],
   "source": [
    "import keras\n",
    "from keras.models import Sequential "
   ]
  },
  {
   "cell_type": "code",
   "execution_count": 17,
   "metadata": {},
   "outputs": [],
   "source": [
    "#模型建立\n",
    "model=Sequential()\n",
    "model.add(keras.layers.Dense(4,input_dim=9,activation='relu'))\n",
    "model.add(keras.layers.Dense(1,activation='relu'))\n",
    "model.compile(loss='mse', optimizer='adam')"
   ]
  },
  {
   "cell_type": "code",
   "execution_count": 18,
   "metadata": {},
   "outputs": [
    {
     "name": "stdout",
     "output_type": "stream",
     "text": [
      "Epoch 1/100\n",
      "891/891 [==============================] - 0s 277us/step - loss: 1.5955\n",
      "Epoch 2/100\n",
      "891/891 [==============================] - 0s 50us/step - loss: 1.2307\n",
      "Epoch 3/100\n",
      "891/891 [==============================] - 0s 60us/step - loss: 0.9749\n",
      "Epoch 4/100\n",
      "891/891 [==============================] - 0s 110us/step - loss: 0.7952\n",
      "Epoch 5/100\n",
      "891/891 [==============================] - 0s 77us/step - loss: 0.6784\n",
      "Epoch 6/100\n",
      "891/891 [==============================] - 0s 86us/step - loss: 0.5871\n",
      "Epoch 7/100\n",
      "891/891 [==============================] - 0s 102us/step - loss: 0.5247\n",
      "Epoch 8/100\n",
      "891/891 [==============================] - 0s 74us/step - loss: 0.4783\n",
      "Epoch 9/100\n",
      "891/891 [==============================] - 0s 95us/step - loss: 0.4426\n",
      "Epoch 10/100\n",
      "891/891 [==============================] - 0s 71us/step - loss: 0.4168\n",
      "Epoch 11/100\n",
      "891/891 [==============================] - 0s 101us/step - loss: 0.3963\n",
      "Epoch 12/100\n",
      "891/891 [==============================] - 0s 98us/step - loss: 0.3812\n",
      "Epoch 13/100\n",
      "891/891 [==============================] - 0s 89us/step - loss: 0.3680\n",
      "Epoch 14/100\n",
      "891/891 [==============================] - 0s 100us/step - loss: 0.3576\n",
      "Epoch 15/100\n",
      "891/891 [==============================] - 0s 84us/step - loss: 0.3491\n",
      "Epoch 16/100\n",
      "891/891 [==============================] - 0s 84us/step - loss: 0.3412\n",
      "Epoch 17/100\n",
      "891/891 [==============================] - 0s 83us/step - loss: 0.3346\n",
      "Epoch 18/100\n",
      "891/891 [==============================] - 0s 86us/step - loss: 0.3287\n",
      "Epoch 19/100\n",
      "891/891 [==============================] - 0s 83us/step - loss: 0.3230\n",
      "Epoch 20/100\n",
      "891/891 [==============================] - 0s 95us/step - loss: 0.3182\n",
      "Epoch 21/100\n",
      "891/891 [==============================] - 0s 103us/step - loss: 0.3135\n",
      "Epoch 22/100\n",
      "891/891 [==============================] - 0s 77us/step - loss: 0.3091\n",
      "Epoch 23/100\n",
      "891/891 [==============================] - 0s 110us/step - loss: 0.3050\n",
      "Epoch 24/100\n",
      "891/891 [==============================] - 0s 102us/step - loss: 0.3006\n",
      "Epoch 25/100\n",
      "891/891 [==============================] - 0s 87us/step - loss: 0.2966\n",
      "Epoch 26/100\n",
      "891/891 [==============================] - 0s 73us/step - loss: 0.2917\n",
      "Epoch 27/100\n",
      "891/891 [==============================] - 0s 91us/step - loss: 0.2873\n",
      "Epoch 28/100\n",
      "891/891 [==============================] - 0s 75us/step - loss: 0.2825\n",
      "Epoch 29/100\n",
      "891/891 [==============================] - 0s 91us/step - loss: 0.2780\n",
      "Epoch 30/100\n",
      "891/891 [==============================] - 0s 94us/step - loss: 0.2737\n",
      "Epoch 31/100\n",
      "891/891 [==============================] - 0s 72us/step - loss: 0.2692\n",
      "Epoch 32/100\n",
      "891/891 [==============================] - 0s 81us/step - loss: 0.2651\n",
      "Epoch 33/100\n",
      "891/891 [==============================] - 0s 64us/step - loss: 0.2613\n",
      "Epoch 34/100\n",
      "891/891 [==============================] - 0s 91us/step - loss: 0.2580\n",
      "Epoch 35/100\n",
      "891/891 [==============================] - 0s 60us/step - loss: 0.2547\n",
      "Epoch 36/100\n",
      "891/891 [==============================] - 0s 80us/step - loss: 0.2518\n",
      "Epoch 37/100\n",
      "891/891 [==============================] - 0s 65us/step - loss: 0.2483\n",
      "Epoch 38/100\n",
      "891/891 [==============================] - 0s 81us/step - loss: 0.2450\n",
      "Epoch 39/100\n",
      "891/891 [==============================] - 0s 69us/step - loss: 0.2417\n",
      "Epoch 40/100\n",
      "891/891 [==============================] - 0s 101us/step - loss: 0.2385\n",
      "Epoch 41/100\n",
      "891/891 [==============================] - 0s 55us/step - loss: 0.2354\n",
      "Epoch 42/100\n",
      "891/891 [==============================] - 0s 50us/step - loss: 0.2323\n",
      "Epoch 43/100\n",
      "891/891 [==============================] - 0s 68us/step - loss: 0.2293\n",
      "Epoch 44/100\n",
      "891/891 [==============================] - 0s 60us/step - loss: 0.2264\n",
      "Epoch 45/100\n",
      "891/891 [==============================] - 0s 66us/step - loss: 0.2227\n",
      "Epoch 46/100\n",
      "891/891 [==============================] - 0s 80us/step - loss: 0.2193\n",
      "Epoch 47/100\n",
      "891/891 [==============================] - 0s 121us/step - loss: 0.2154\n",
      "Epoch 48/100\n",
      "891/891 [==============================] - 0s 78us/step - loss: 0.2115\n",
      "Epoch 49/100\n",
      "891/891 [==============================] - 0s 81us/step - loss: 0.2076\n",
      "Epoch 50/100\n",
      "891/891 [==============================] - 0s 78us/step - loss: 0.2040\n",
      "Epoch 51/100\n",
      "891/891 [==============================] - 0s 89us/step - loss: 0.2005\n",
      "Epoch 52/100\n",
      "891/891 [==============================] - 0s 90us/step - loss: 0.1970\n",
      "Epoch 53/100\n",
      "891/891 [==============================] - 0s 88us/step - loss: 0.1936\n",
      "Epoch 54/100\n",
      "891/891 [==============================] - 0s 75us/step - loss: 0.1903\n",
      "Epoch 55/100\n",
      "891/891 [==============================] - 0s 81us/step - loss: 0.1870\n",
      "Epoch 56/100\n",
      "891/891 [==============================] - 0s 74us/step - loss: 0.1840\n",
      "Epoch 57/100\n",
      "891/891 [==============================] - 0s 77us/step - loss: 0.1812\n",
      "Epoch 58/100\n",
      "891/891 [==============================] - 0s 78us/step - loss: 0.1784\n",
      "Epoch 59/100\n",
      "891/891 [==============================] - 0s 71us/step - loss: 0.1758\n",
      "Epoch 60/100\n",
      "891/891 [==============================] - 0s 82us/step - loss: 0.1735\n",
      "Epoch 61/100\n",
      "891/891 [==============================] - 0s 72us/step - loss: 0.1714\n",
      "Epoch 62/100\n",
      "891/891 [==============================] - 0s 67us/step - loss: 0.1695\n",
      "Epoch 63/100\n",
      "891/891 [==============================] - 0s 69us/step - loss: 0.1677\n",
      "Epoch 64/100\n",
      "891/891 [==============================] - 0s 75us/step - loss: 0.1661\n",
      "Epoch 65/100\n",
      "891/891 [==============================] - 0s 70us/step - loss: 0.1647\n",
      "Epoch 66/100\n",
      "891/891 [==============================] - 0s 89us/step - loss: 0.1632\n",
      "Epoch 67/100\n",
      "891/891 [==============================] - 0s 77us/step - loss: 0.1619\n",
      "Epoch 68/100\n",
      "891/891 [==============================] - 0s 78us/step - loss: 0.1607\n",
      "Epoch 69/100\n",
      "891/891 [==============================] - 0s 68us/step - loss: 0.1595\n",
      "Epoch 70/100\n",
      "891/891 [==============================] - 0s 65us/step - loss: 0.1584\n",
      "Epoch 71/100\n",
      "891/891 [==============================] - 0s 58us/step - loss: 0.1574\n",
      "Epoch 72/100\n",
      "891/891 [==============================] - 0s 58us/step - loss: 0.1565\n",
      "Epoch 73/100\n",
      "891/891 [==============================] - 0s 67us/step - loss: 0.1555\n",
      "Epoch 74/100\n",
      "891/891 [==============================] - 0s 70us/step - loss: 0.1546\n",
      "Epoch 75/100\n",
      "891/891 [==============================] - 0s 75us/step - loss: 0.1537\n",
      "Epoch 76/100\n",
      "891/891 [==============================] - 0s 87us/step - loss: 0.1529\n",
      "Epoch 77/100\n",
      "891/891 [==============================] - 0s 66us/step - loss: 0.1519\n",
      "Epoch 78/100\n",
      "891/891 [==============================] - 0s 72us/step - loss: 0.1511\n",
      "Epoch 79/100\n",
      "891/891 [==============================] - 0s 70us/step - loss: 0.1502\n",
      "Epoch 80/100\n",
      "891/891 [==============================] - 0s 75us/step - loss: 0.1494\n",
      "Epoch 81/100\n",
      "891/891 [==============================] - 0s 90us/step - loss: 0.1486\n",
      "Epoch 82/100\n",
      "891/891 [==============================] - 0s 75us/step - loss: 0.1478\n",
      "Epoch 83/100\n",
      "891/891 [==============================] - 0s 61us/step - loss: 0.1471\n",
      "Epoch 84/100\n",
      "891/891 [==============================] - 0s 73us/step - loss: 0.1463\n",
      "Epoch 85/100\n",
      "891/891 [==============================] - 0s 66us/step - loss: 0.1461\n",
      "Epoch 86/100\n",
      "891/891 [==============================] - 0s 67us/step - loss: 0.1452\n",
      "Epoch 87/100\n",
      "891/891 [==============================] - 0s 68us/step - loss: 0.1446\n",
      "Epoch 88/100\n",
      "891/891 [==============================] - 0s 57us/step - loss: 0.1441\n",
      "Epoch 89/100\n",
      "891/891 [==============================] - 0s 70us/step - loss: 0.1435\n",
      "Epoch 90/100\n",
      "891/891 [==============================] - 0s 60us/step - loss: 0.1431\n",
      "Epoch 91/100\n",
      "891/891 [==============================] - 0s 64us/step - loss: 0.1427\n",
      "Epoch 92/100\n",
      "891/891 [==============================] - 0s 62us/step - loss: 0.1422\n",
      "Epoch 93/100\n",
      "891/891 [==============================] - 0s 65us/step - loss: 0.1418\n",
      "Epoch 94/100\n",
      "891/891 [==============================] - 0s 66us/step - loss: 0.1412\n",
      "Epoch 95/100\n",
      "891/891 [==============================] - 0s 61us/step - loss: 0.1409\n",
      "Epoch 96/100\n",
      "891/891 [==============================] - 0s 63us/step - loss: 0.1405\n",
      "Epoch 97/100\n",
      "891/891 [==============================] - 0s 57us/step - loss: 0.1403\n",
      "Epoch 98/100\n",
      "891/891 [==============================] - 0s 74us/step - loss: 0.1399\n",
      "Epoch 99/100\n",
      "891/891 [==============================] - 0s 61us/step - loss: 0.1398\n",
      "Epoch 100/100\n",
      "891/891 [==============================] - 0s 53us/step - loss: 0.1393\n"
     ]
    },
    {
     "data": {
      "text/plain": [
       "<keras.callbacks.History at 0x174c666f668>"
      ]
     },
     "execution_count": 18,
     "metadata": {},
     "output_type": "execute_result"
    }
   ],
   "source": [
    "model.fit(x_train_std,y_train, epochs=100)"
   ]
  },
  {
   "cell_type": "code",
   "execution_count": 39,
   "metadata": {
    "scrolled": true
   },
   "outputs": [],
   "source": [
    "result= model.predict(x_test_std)\n",
    "result=np.float64(result)"
   ]
  },
  {
   "cell_type": "code",
   "execution_count": 60,
   "metadata": {},
   "outputs": [],
   "source": [
    "Submission=pd.DataFrame(test['PassengerId'])\n",
    "Submission['Survived']=result\n",
    "Submission['Survived']=Submission.apply(lambda x: 1 if x.Survied>0.5 else 0,axis=1)"
   ]
  },
  {
   "cell_type": "code",
   "execution_count": 61,
   "metadata": {},
   "outputs": [],
   "source": [
    "Submission.to_csv('Submission.csv')"
   ]
  },
  {
   "cell_type": "markdown",
   "metadata": {},
   "source": [
    "# 結果"
   ]
  },
  {
   "cell_type": "markdown",
   "metadata": {},
   "source": [
    "![Kaggle](https://lh3.googleusercontent.com/R2pHvHoCBxqjiBdDoB8rinNH8G42JU69aTVxTtdNREl1JiO3gPA6VW2L0s5vZ9E54FhoDH4LOn3h3XBH5cpQvFlvGwdyl-Aw6axia2IFfX8-G-5OxOQoCODNJu46UrhJjVsIwlNYGlDNJ2zJQVsqaKWNnggXKVRhTglZ6CI90PSqRIKIsjWMcyLJjrsPp2bsY3DObv2SapgqBQv9VxCpnu4wlI154rlZx4keo6UyArZ84J79Sm_VW1qEI7UwI9H3pE24otq_ec1wa2dNhssVXxsszrgDo7C-tt7YAAjcCY5FOX8LjgYFl2d4D9XVTIHgplGtlm2gAu5gkGgHGVEJc3MafeevH9YyziEtnb2_sEdsVkZXyNaPnSaENCh707GenB6h251odah22PNCd8LfkZV0A8Nlrb2YTkH4UKrCuJjP14spwi1VxSDk9IAsWHdGrjVIz5pGv2JmifcUXvTFZnCSVRg-sxTpKYWYuAMXnHENnYSxo5nJ89epQeI96JAd4ahacO7PNicecmNWAnZmx7mkQ6it5olcBAdyTw1S2JGIh4PvWdlGMQAEPL2onIUHEasvSoJFzwfKMzmMoGu_cACk8xgvantWD39S3R52=w2965-h498-no)"
   ]
  }
 ],
 "metadata": {
  "kernelspec": {
   "display_name": "Python 3",
   "language": "python",
   "name": "python3"
  },
  "language_info": {
   "codemirror_mode": {
    "name": "ipython",
    "version": 3
   },
   "file_extension": ".py",
   "mimetype": "text/x-python",
   "name": "python",
   "nbconvert_exporter": "python",
   "pygments_lexer": "ipython3",
   "version": "3.6.4"
  }
 },
 "nbformat": 4,
 "nbformat_minor": 2
}
