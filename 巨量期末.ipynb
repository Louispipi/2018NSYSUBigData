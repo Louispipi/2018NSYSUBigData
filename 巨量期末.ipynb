{
 "cells": [
  {
   "cell_type": "code",
   "execution_count": 1,
   "metadata": {},
   "outputs": [],
   "source": [
    "import numpy as np\n",
    "import pandas as pd \n",
    "import matplotlib.pyplot as plt"
   ]
  },
  {
   "cell_type": "code",
   "execution_count": 2,
   "metadata": {},
   "outputs": [],
   "source": [
    "import pandas as pd\n",
    "import os\n",
    "os.chdir('/users/alex/Desktop/資料集/')\n",
    "df = pd.read_csv('Stock_Daily_TW.txt', encoding = 'CP950', sep = '\\t', low_memory=False, na_values=['       -'])\n",
    "df.columns = ['ticker', 'name', 'date', 'open', 'high', 'low', 'close', 'volume', 'shares']"
   ]
  },
  {
   "cell_type": "code",
   "execution_count": 3,
   "metadata": {},
   "outputs": [],
   "source": [
    "df['MV'] = df.close*df.shares"
   ]
  },
  {
   "cell_type": "code",
   "execution_count": 4,
   "metadata": {},
   "outputs": [],
   "source": [
    "codelist = df[df.date==20180601]"
   ]
  },
  {
   "cell_type": "code",
   "execution_count": 5,
   "metadata": {},
   "outputs": [],
   "source": [
    "codelist=codelist.sort_values(['MV'])\n",
    "codelist=codelist.head(300)['ticker']"
   ]
  },
  {
   "cell_type": "code",
   "execution_count": 6,
   "metadata": {},
   "outputs": [],
   "source": [
    "df = df.sort_values(['ticker', 'date'])"
   ]
  },
  {
   "cell_type": "code",
   "execution_count": 7,
   "metadata": {},
   "outputs": [],
   "source": [
    "df.date = pd.Series(df.date, dtype='str')\n",
    "df.date = pd.to_datetime(df.date )"
   ]
  },
  {
   "cell_type": "markdown",
   "metadata": {},
   "source": [
    "## 整理成函數"
   ]
  },
  {
   "cell_type": "code",
   "execution_count": 8,
   "metadata": {},
   "outputs": [],
   "source": [
    "def random_target(x,codelist, df):\n",
    "  \n",
    "    from matplotlib import dates\n",
    "\n",
    "    target=codelist.take(np.random.permutation(len(codelist))[:1])\n",
    "    Firm=target.values[0]\n",
    "    \n",
    "    aaa=df[df.ticker==Firm]\n",
    "    target_date=aaa.take(np.random.permutation(len(aaa))[:1])\n",
    "    \n",
    "    limit=len(aaa)-61\n",
    "    x=target_date.date.values[0]\n",
    "    if x>aaa.date.values[limit]:\n",
    "        \n",
    "        while x<aaa.date.values[limit]:\n",
    "            target_date=aaa.take(np.random.permutation(len(aaa))[:1])\n",
    "            x=target_date.date.values[0]   \n",
    "            \n",
    "        begin_index=target_date.index[0]\n",
    "        end_index=begin_index+60\n",
    "        final=df.iloc[begin_index:end_index].copy()\n",
    " \n",
    "    else:\n",
    "        begin_index=target_date.index[0]\n",
    "        end_index=begin_index+60\n",
    "        final=df.iloc[begin_index:end_index].copy()\n",
    "        \n",
    "    final['num_date'] = final.date.apply(dates.date2num).values\n",
    "    final = final[['ticker','date','num_date', 'open', 'high', 'low', 'close']].as_matrix()\n",
    "\n",
    "    \n",
    "    return final"
   ]
  },
  {
   "cell_type": "code",
   "execution_count": 64,
   "metadata": {},
   "outputs": [],
   "source": [
    "def data_candlestick_array(input_array):\n",
    "    data = input_array[:, 2:7]\n",
    "    weekday_quotes = [tuple([i]+list(data[1:])) for i,data in enumerate(data)]\n",
    "\n",
    "    from matplotlib.finance import candlestick_ohlc\n",
    "\n",
    "    fig,ax = plt.subplots()\n",
    "    fig.set_figwidth(3)\n",
    "    fig.set_figheight(1.5)\n",
    "    fig.subplots_adjust(bottom=0.1)\n",
    "\n",
    "\n",
    "\n",
    "    candlestick_ohlc(ax, weekday_quotes, width=0.3, colordown='#4dff4d', colorup='#ff471a')\n",
    "    plt.axis('off')\n",
    "\n",
    "    fig.canvas.draw()\n",
    "\n",
    "    # grab the pixel buffer and dump it into a numpy array\n",
    "    pixel_array = np.array(fig.canvas.renderer._renderer)\n",
    "    pixel_array = pixel_array[:,:,0:3]\n",
    "    plt.close(fig)\n",
    "    return pixel_array"
   ]
  },
  {
   "cell_type": "code",
   "execution_count": 69,
   "metadata": {},
   "outputs": [
    {
     "name": "stderr",
     "output_type": "stream",
     "text": [
      "Process ForkPoolWorker-35:\n",
      "Process ForkPoolWorker-33:\n",
      "Process ForkPoolWorker-36:\n",
      "Process ForkPoolWorker-34:\n",
      "Traceback (most recent call last):\n",
      "  File \"/Users/alex/anaconda3/lib/python3.6/multiprocessing/process.py\", line 258, in _bootstrap\n",
      "    self.run()\n",
      "Traceback (most recent call last):\n",
      "Traceback (most recent call last):\n",
      "  File \"/Users/alex/anaconda3/lib/python3.6/multiprocessing/process.py\", line 258, in _bootstrap\n",
      "    self.run()\n",
      "  File \"/Users/alex/anaconda3/lib/python3.6/multiprocessing/process.py\", line 93, in run\n",
      "    self._target(*self._args, **self._kwargs)\n",
      "  File \"/Users/alex/anaconda3/lib/python3.6/multiprocessing/process.py\", line 93, in run\n",
      "    self._target(*self._args, **self._kwargs)\n",
      "  File \"/Users/alex/anaconda3/lib/python3.6/multiprocessing/process.py\", line 258, in _bootstrap\n",
      "    self.run()\n",
      "  File \"/Users/alex/anaconda3/lib/python3.6/multiprocessing/pool.py\", line 108, in worker\n",
      "    task = get()\n",
      "  File \"/Users/alex/anaconda3/lib/python3.6/multiprocessing/process.py\", line 93, in run\n",
      "    self._target(*self._args, **self._kwargs)\n",
      "  File \"/Users/alex/anaconda3/lib/python3.6/multiprocessing/queues.py\", line 334, in get\n",
      "    with self._rlock:\n",
      "Traceback (most recent call last):\n",
      "  File \"/Users/alex/anaconda3/lib/python3.6/multiprocessing/pool.py\", line 108, in worker\n",
      "    task = get()\n",
      "  File \"/Users/alex/anaconda3/lib/python3.6/multiprocessing/queues.py\", line 334, in get\n",
      "    with self._rlock:\n",
      "  File \"/Users/alex/anaconda3/lib/python3.6/multiprocessing/process.py\", line 258, in _bootstrap\n",
      "    self.run()\n",
      "  File \"/Users/alex/anaconda3/lib/python3.6/multiprocessing/process.py\", line 93, in run\n",
      "    self._target(*self._args, **self._kwargs)\n",
      "  File \"/Users/alex/anaconda3/lib/python3.6/multiprocessing/synchronize.py\", line 96, in __enter__\n",
      "    return self._semlock.__enter__()\n",
      "  File \"/Users/alex/anaconda3/lib/python3.6/multiprocessing/pool.py\", line 108, in worker\n",
      "    task = get()\n",
      "  File \"/Users/alex/anaconda3/lib/python3.6/multiprocessing/queues.py\", line 334, in get\n",
      "    with self._rlock:\n",
      "  File \"/Users/alex/anaconda3/lib/python3.6/multiprocessing/synchronize.py\", line 96, in __enter__\n",
      "    return self._semlock.__enter__()\n",
      "  File \"/Users/alex/anaconda3/lib/python3.6/multiprocessing/synchronize.py\", line 96, in __enter__\n",
      "    return self._semlock.__enter__()\n",
      "KeyboardInterrupt\n",
      "  File \"/Users/alex/anaconda3/lib/python3.6/multiprocessing/pool.py\", line 108, in worker\n",
      "    task = get()\n",
      "KeyboardInterrupt\n",
      "  File \"/Users/alex/anaconda3/lib/python3.6/multiprocessing/queues.py\", line 335, in get\n",
      "    res = self._reader.recv_bytes()\n",
      "  File \"/Users/alex/anaconda3/lib/python3.6/multiprocessing/connection.py\", line 216, in recv_bytes\n",
      "    buf = self._recv_bytes(maxlength)\n",
      "KeyboardInterrupt\n",
      "  File \"/Users/alex/anaconda3/lib/python3.6/multiprocessing/connection.py\", line 407, in _recv_bytes\n",
      "    buf = self._recv(4)\n",
      "  File \"/Users/alex/anaconda3/lib/python3.6/multiprocessing/connection.py\", line 379, in _recv\n",
      "    chunk = read(handle, remaining)\n",
      "KeyboardInterrupt\n"
     ]
    }
   ],
   "source": [
    "import multiprocessing\n",
    "import time\n",
    " \n",
    "start = time.clock()\n",
    "emp_list = list(range(1,5000)) \n",
    "dataset_list = map(lambda x: random_target(x,codelist,df), emp_list)\n",
    "dataset_list = list(dataset_list)\n",
    "\n",
    "if __name__ == '__main__':\n",
    "    pool = multiprocessing.Pool()\n",
    "    img_array = pool.map(data_candlestick_array, dataset_list)\n",
    "    \n",
    "\n"
   ]
  },
  {
   "cell_type": "code",
   "execution_count": 71,
   "metadata": {},
   "outputs": [
    {
     "data": {
      "text/plain": [
       "4999"
      ]
     },
     "execution_count": 71,
     "metadata": {},
     "output_type": "execute_result"
    }
   ],
   "source": [
    "len(img_array)"
   ]
  },
  {
   "cell_type": "code",
   "execution_count": 74,
   "metadata": {},
   "outputs": [],
   "source": [
    "import pickle\n",
    "with open(\"candlestick_array.txt\", \"wb\") as f:\n",
    "    pickle.dump(img_array, f)"
   ]
  },
  {
   "cell_type": "code",
   "execution_count": 76,
   "metadata": {},
   "outputs": [],
   "source": [
    "with open(\"candlestick_array.txt\", \"rb\") as f:\n",
    "    img_array = pickle.load(f)"
   ]
  },
  {
   "cell_type": "code",
   "execution_count": null,
   "metadata": {},
   "outputs": [],
   "source": [
    "train_data = np.array(img_array)"
   ]
  },
  {
   "cell_type": "code",
   "execution_count": null,
   "metadata": {},
   "outputs": [],
   "source": [
    "from keras.layers import Input, Dense, Conv2D, MaxPooling2D, UpSampling2D\n",
    "from keras.models import Model\n",
    "from keras import backend as K\n",
    "from keras.datasets import mnist\n",
    "import numpy as np\n",
    "\n",
    "input_img = Input(shape=(108, 216, 3))  # adapt this if using `channels_first` image data format\n",
    "\n",
    "x = Conv2D(8, (3, 3), activation='relu', padding='same')(input_img)\n",
    "x = MaxPooling2D((2, 2), padding='same')(x)\n",
    "x = Conv2D(4, (3, 3), activation='relu', padding='same')(x)\n",
    "x = MaxPooling2D((2, 2), padding='same')(x)\n",
    "x = Conv2D(4, (3, 3), activation='relu', padding='same')(x)\n",
    "encoded = MaxPooling2D((3, 3), padding='same')(x)\n",
    "\n",
    "# at this point the representation is (4, 4, 8) i.e. 128-dimensional\n",
    "\n",
    "x = Conv2D(8, (3, 3), activation='relu', padding='same')(encoded)\n",
    "x = UpSampling2D((2, 2))(x)\n",
    "x = Conv2D(8, (3, 3), activation='relu', padding='same')(x)\n",
    "x = UpSampling2D((2, 2))(x)\n",
    "x = Conv2D(16, (3, 3), activation='relu', padding='same')(x)\n",
    "x = UpSampling2D((3, 3))(x)\n",
    "decoded = Conv2D(3, (3, 3), activation='softmax', padding='same')(x)\n",
    "\n",
    "autoencoder = Model(input_img, decoded)\n",
    "autoencoder.compile(optimizer='adadelta', loss='mean_squared_error')\n",
    "\n",
    "\n"
   ]
  },
  {
   "cell_type": "code",
   "execution_count": 142,
   "metadata": {},
   "outputs": [
    {
     "name": "stdout",
     "output_type": "stream",
     "text": [
      "_________________________________________________________________\n",
      "Layer (type)                 Output Shape              Param #   \n",
      "=================================================================\n",
      "input_15 (InputLayer)        (None, 108, 216, 3)       0         \n",
      "_________________________________________________________________\n",
      "conv2d_99 (Conv2D)           (None, 108, 216, 8)       224       \n",
      "_________________________________________________________________\n",
      "max_pooling2d_43 (MaxPooling (None, 54, 108, 8)        0         \n",
      "_________________________________________________________________\n",
      "conv2d_100 (Conv2D)          (None, 54, 108, 4)        292       \n",
      "_________________________________________________________________\n",
      "max_pooling2d_44 (MaxPooling (None, 27, 54, 4)         0         \n",
      "_________________________________________________________________\n",
      "conv2d_101 (Conv2D)          (None, 27, 54, 4)         148       \n",
      "_________________________________________________________________\n",
      "max_pooling2d_45 (MaxPooling (None, 9, 18, 4)          0         \n",
      "_________________________________________________________________\n",
      "conv2d_102 (Conv2D)          (None, 9, 18, 8)          296       \n",
      "_________________________________________________________________\n",
      "up_sampling2d_43 (UpSampling (None, 18, 36, 8)         0         \n",
      "_________________________________________________________________\n",
      "conv2d_103 (Conv2D)          (None, 18, 36, 8)         584       \n",
      "_________________________________________________________________\n",
      "up_sampling2d_44 (UpSampling (None, 36, 72, 8)         0         \n",
      "_________________________________________________________________\n",
      "conv2d_104 (Conv2D)          (None, 36, 72, 16)        1168      \n",
      "_________________________________________________________________\n",
      "up_sampling2d_45 (UpSampling (None, 108, 216, 16)      0         \n",
      "_________________________________________________________________\n",
      "conv2d_105 (Conv2D)          (None, 108, 216, 3)       435       \n",
      "=================================================================\n",
      "Total params: 3,147\n",
      "Trainable params: 3,147\n",
      "Non-trainable params: 0\n",
      "_________________________________________________________________\n"
     ]
    }
   ],
   "source": [
    "autoencoder.summary()"
   ]
  },
  {
   "cell_type": "code",
   "execution_count": 86,
   "metadata": {},
   "outputs": [],
   "source": [
    "from keras.callbacks import TensorBoard\n",
    "from sklearn.model_selection import train_test_split\n",
    "\n",
    "x_train, x_test, y_train, y_test = train_test_split(train_data, train_data, test_size=0.33, random_state=42)\n",
    "\n",
    "\n",
    "x_train = x_train.astype('float32') / 255\n",
    "x_test = x_test.astype('float32') / 255\n"
   ]
  },
  {
   "cell_type": "code",
   "execution_count": 144,
   "metadata": {},
   "outputs": [
    {
     "name": "stdout",
     "output_type": "stream",
     "text": [
      "Train on 3349 samples, validate on 1650 samples\n",
      "Epoch 1/4\n",
      "3349/3349 [==============================] - 128s 38ms/step - loss: 0.0133 - val_loss: 0.0133\n",
      "Epoch 2/4\n",
      "3349/3349 [==============================] - 123s 37ms/step - loss: 0.0133 - val_loss: 0.0132\n",
      "Epoch 3/4\n",
      "3349/3349 [==============================] - 135s 40ms/step - loss: 0.0132 - val_loss: 0.0132\n",
      "Epoch 4/4\n",
      "3349/3349 [==============================] - 123s 37ms/step - loss: 0.0132 - val_loss: 0.0132\n"
     ]
    },
    {
     "data": {
      "text/plain": [
       "<keras.callbacks.History at 0x14e2880b8>"
      ]
     },
     "execution_count": 144,
     "metadata": {},
     "output_type": "execute_result"
    }
   ],
   "source": [
    "autoencoder.fit(x_train, x_train,\n",
    "                epochs=4,\n",
    "                batch_size=128,\n",
    "                shuffle=True,\n",
    "                validation_data=(x_test, x_test),\n",
    "                callbacks=[TensorBoard(log_dir='/tmp/autoencoder')])"
   ]
  },
  {
   "cell_type": "code",
   "execution_count": 145,
   "metadata": {},
   "outputs": [
    {
     "data": {
      "text/plain": [
       "<matplotlib.image.AxesImage at 0x14fdc0ba8>"
      ]
     },
     "execution_count": 145,
     "metadata": {},
     "output_type": "execute_result"
    },
    {
     "data": {
      "image/png": "[encoded data removed]",
      "text/plain": [
       "<matplotlib.figure.Figure at 0x14e288320>"
      ]
     },
     "metadata": {},
     "output_type": "display_data"
    }
   ],
   "source": [
    "ax = plt.subplot(111)\n",
    "plt.imshow(x_train[1])\n"
   ]
  },
  {
   "cell_type": "code",
   "execution_count": 146,
   "metadata": {},
   "outputs": [],
   "source": [
    "decoded_imgs = autoencoder.predict(x_train)"
   ]
  },
  {
   "cell_type": "code",
   "execution_count": 152,
   "metadata": {},
   "outputs": [
    {
     "data": {
      "text/plain": [
       "<matplotlib.figure.Figure at 0x14d66d2b0>"
      ]
     },
     "metadata": {},
     "output_type": "display_data"
    }
   ],
   "source": [
    "fig =plt.gcf()\n",
    "DPI = fig.get_dpi()"
   ]
  },
  {
   "cell_type": "code",
   "execution_count": 153,
   "metadata": {},
   "outputs": [
    {
     "data": {
      "text/plain": [
       "72.0"
      ]
     },
     "execution_count": 153,
     "metadata": {},
     "output_type": "execute_result"
    }
   ],
   "source": [
    "DPI"
   ]
  },
  {
   "cell_type": "code",
   "execution_count": null,
   "metadata": {},
   "outputs": [],
   "source": [
    "fig = gcf()\n",
    "DPI = fig.get_dpi()\n",
    "fig.set_size_inches(2400.0/float(DPI),1220.0/float(DPI))"
   ]
  },
  {
   "cell_type": "code",
   "execution_count": 154,
   "metadata": {},
   "outputs": [
    {
     "ename": "NameError",
     "evalue": "name 'input_array' is not defined",
     "output_type": "error",
     "traceback": [
      "\u001b[0;31m---------------------------------------------------------------------------\u001b[0m",
      "\u001b[0;31mNameError\u001b[0m                                 Traceback (most recent call last)",
      "\u001b[0;32m<ipython-input-154-e902ac45dab4>\u001b[0m in \u001b[0;36m<module>\u001b[0;34m()\u001b[0m\n\u001b[0;32m----> 1\u001b[0;31m \u001b[0minput_array\u001b[0m\u001b[0;34m\u001b[0m\u001b[0m\n\u001b[0m",
      "\u001b[0;31mNameError\u001b[0m: name 'input_array' is not defined"
     ]
    }
   ],
   "source": [
    "input_array"
   ]
  },
  {
   "cell_type": "code",
   "execution_count": 159,
   "metadata": {},
   "outputs": [
    {
     "data": {
      "image/png": "[encoded data removed]",
      "text/plain": [
       "<matplotlib.figure.Figure at 0x11fbde9b0>"
      ]
     },
     "metadata": {},
     "output_type": "display_data"
    }
   ],
   "source": [
    "data = dataset_list[1][:, 2:7]\n",
    "weekday_quotes = [tuple([i]+list(data[1:])) for i,data in enumerate(data)]\n",
    "\n",
    "from matplotlib.finance import candlestick_ohlc\n",
    "\n",
    "fig,ax = plt.subplots()\n",
    "DPI = fig.get_dpi()\n",
    "fig.set_size_inches(224.0/float(DPI),224.0/float(DPI))\n",
    "fig.subplots_adjust(bottom=0.1)\n",
    "\n",
    "\n",
    "\n",
    "candlestick_ohlc(ax, weekday_quotes, width=0.3, colordown='#4dff4d', colorup='#ff471a')\n",
    "plt.axis('off')\n",
    "\n",
    "fig.canvas.draw()\n",
    "\n",
    "# grab the pixel buffer and dump it into a numpy array\n",
    "pixel_array = np.array(fig.canvas.renderer._renderer)\n",
    "pixel_array = pixel_array[:,:,0:3]\n",
    "#plt.close(fig)"
   ]
  },
  {
   "cell_type": "code",
   "execution_count": 160,
   "metadata": {},
   "outputs": [
    {
     "data": {
      "text/plain": [
       "(224, 224, 3)"
      ]
     },
     "execution_count": 160,
     "metadata": {},
     "output_type": "execute_result"
    }
   ],
   "source": [
    "pixel_array.shape"
   ]
  },
  {
   "cell_type": "code",
   "execution_count": null,
   "metadata": {},
   "outputs": [],
   "source": []
  }
 ],
 "metadata": {
  "kernelspec": {
   "display_name": "Python 3",
   "language": "python",
   "name": "python3"
  },
  "language_info": {
   "codemirror_mode": {
    "name": "ipython",
    "version": 3
   },
   "file_extension": ".py",
   "mimetype": "text/x-python",
   "name": "python",
   "nbconvert_exporter": "python",
   "pygments_lexer": "ipython3",
   "version": "3.6.4"
  }
 },
 "nbformat": 4,
 "nbformat_minor": 2
}
